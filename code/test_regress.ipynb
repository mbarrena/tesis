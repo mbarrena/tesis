{
 "cells": [
  {
   "cell_type": "markdown",
   "metadata": {},
   "source": [
    "#### For colab"
   ]
  },
  {
   "cell_type": "markdown",
   "metadata": {},
   "source": [
    "from google.colab import drive\n",
    "drive.mount('/content/drive', force_remount=True)\n",
    "import sys \n",
    "sh_path = './drive/MyDrive/Colab Notebooks/scripts'\n",
    "sys.path.insert(0, sh_path)"
   ]
  },
  {
   "cell_type": "markdown",
   "metadata": {},
   "source": [
    "#### For local development"
   ]
  },
  {
   "cell_type": "code",
   "execution_count": 1,
   "metadata": {},
   "outputs": [],
   "source": [
    "import sys \n",
    "sh_path = '/home/mako/Documents/personal/tesis_mariana/code/scripts'\n",
    "sys.path.insert(0, sh_path)"
   ]
  },
  {
   "cell_type": "markdown",
   "metadata": {},
   "source": [
    "# Install dependencies and import thesis code"
   ]
  },
  {
   "cell_type": "markdown",
   "metadata": {},
   "source": [
    "# Si esta próxima linea falla, ir a\n",
    "#    Entorno de ejecucion > Reiniciar entorno de ejecucion\n",
    "# y volver a correr estas primeras dos celdas\n",
    "!sh '{sh_path}'/install_libraries.sh"
   ]
  },
  {
   "cell_type": "code",
   "execution_count": 2,
   "metadata": {},
   "outputs": [],
   "source": [
    "from tests import *\n",
    "from regression import *\n",
    "%matplotlib inline\n",
    "# Para elegir que modelo usar para regresión, descomentar la línea con el modelo\n",
    "# que se quiera usar y comentar las otras dos. Despues correr la celda\n",
    "REGRESS_MODEL = \"LocalProjections\" #o \"VECM\" o \"OLS\" o \"LocalProjections\""
   ]
  },
  {
   "cell_type": "markdown",
   "metadata": {},
   "source": [
    "# Load dfs"
   ]
  },
  {
   "cell_type": "code",
   "execution_count": 18,
   "metadata": {},
   "outputs": [],
   "source": [
    "import pandas as pd\n",
    "df_trimestral_crudo = pd.read_excel(\"https://github.com/mbarrena/tesis/blob/main/data/Data%20trimestral%201950%20a%202023%20con%20DUMMIES%20outliers%20(por%20trimestre).xlsx?raw=true\")\n"
   ]
  },
  {
   "cell_type": "code",
   "execution_count": 19,
   "metadata": {},
   "outputs": [],
   "source": [
    "df_Arg = df_trimestral_crudo.iloc[36:].reset_index(drop=True)[['año', 'trimestre', 'ipc_ajust', 'E', 'Ebc', 'pbird', 'impp_usa', 'Psoja_USA', 'Pmaíz_USA', 'Ptrigo_USA', 'TOTfmi']].copy()\n",
    "df_Arg = df_trimestral_crudo.iloc[36:].reset_index(drop=True)[['año', 'trimestre', 'ipc_ajust', 'E', 'Ebc', 'pbird', 'impp_usa', 'Psoja_USA', 'Pmaíz_USA', 'Ptrigo_USA', 'TOTfmi']].copy()\n",
    "df_Arg = renameColumnOfDataframe(df_Arg, \"ipc_ajust\", \"ipc\")"
   ]
  },
  {
   "cell_type": "code",
   "execution_count": 20,
   "metadata": {},
   "outputs": [
    {
     "data": {
      "text/html": [
       "<div>\n",
       "<style scoped>\n",
       "    .dataframe tbody tr th:only-of-type {\n",
       "        vertical-align: middle;\n",
       "    }\n",
       "\n",
       "    .dataframe tbody tr th {\n",
       "        vertical-align: top;\n",
       "    }\n",
       "\n",
       "    .dataframe thead th {\n",
       "        text-align: right;\n",
       "    }\n",
       "</style>\n",
       "<table border=\"1\" class=\"dataframe\">\n",
       "  <thead>\n",
       "    <tr style=\"text-align: right;\">\n",
       "      <th></th>\n",
       "      <th>año</th>\n",
       "      <th>trimestre</th>\n",
       "      <th>E</th>\n",
       "      <th>Ebc</th>\n",
       "      <th>pbird</th>\n",
       "      <th>impp_usa</th>\n",
       "      <th>Psoja_USA</th>\n",
       "      <th>Pmaíz_USA</th>\n",
       "      <th>Ptrigo_USA</th>\n",
       "      <th>TOTfmi</th>\n",
       "      <th>ipc</th>\n",
       "    </tr>\n",
       "  </thead>\n",
       "  <tbody>\n",
       "    <tr>\n",
       "      <th>1</th>\n",
       "      <td>1959</td>\n",
       "      <td>2ºTr</td>\n",
       "      <td>0.246097</td>\n",
       "      <td>0.220782</td>\n",
       "      <td>0.030592</td>\n",
       "      <td>0.001061</td>\n",
       "      <td>2.889447e-02</td>\n",
       "      <td>0.097341</td>\n",
       "      <td>0.003831</td>\n",
       "      <td>NaN</td>\n",
       "      <td>0.242291</td>\n",
       "    </tr>\n",
       "    <tr>\n",
       "      <th>2</th>\n",
       "      <td>1959</td>\n",
       "      <td>3ºTr</td>\n",
       "      <td>-0.017487</td>\n",
       "      <td>0.011635</td>\n",
       "      <td>-0.094753</td>\n",
       "      <td>0.002119</td>\n",
       "      <td>-6.369500e-02</td>\n",
       "      <td>-0.029414</td>\n",
       "      <td>-0.011539</td>\n",
       "      <td>NaN</td>\n",
       "      <td>0.132732</td>\n",
       "    </tr>\n",
       "    <tr>\n",
       "      <th>3</th>\n",
       "      <td>1959</td>\n",
       "      <td>4ºTr</td>\n",
       "      <td>-0.011363</td>\n",
       "      <td>-0.016617</td>\n",
       "      <td>0.069152</td>\n",
       "      <td>0.014706</td>\n",
       "      <td>-3.378382e-03</td>\n",
       "      <td>-0.124785</td>\n",
       "      <td>0.032353</td>\n",
       "      <td>NaN</td>\n",
       "      <td>0.053472</td>\n",
       "    </tr>\n",
       "    <tr>\n",
       "      <th>4</th>\n",
       "      <td>1960</td>\n",
       "      <td>1ºTr</td>\n",
       "      <td>-0.002409</td>\n",
       "      <td>0.002615</td>\n",
       "      <td>0.044745</td>\n",
       "      <td>0.002083</td>\n",
       "      <td>1.344558e-02</td>\n",
       "      <td>0.024057</td>\n",
       "      <td>0.011173</td>\n",
       "      <td>NaN</td>\n",
       "      <td>0.060550</td>\n",
       "    </tr>\n",
       "    <tr>\n",
       "      <th>5</th>\n",
       "      <td>1960</td>\n",
       "      <td>2ºTr</td>\n",
       "      <td>0.000804</td>\n",
       "      <td>0.001886</td>\n",
       "      <td>0.006553</td>\n",
       "      <td>0.001040</td>\n",
       "      <td>-2.220446e-16</td>\n",
       "      <td>0.064250</td>\n",
       "      <td>-0.007435</td>\n",
       "      <td>NaN</td>\n",
       "      <td>0.003403</td>\n",
       "    </tr>\n",
       "  </tbody>\n",
       "</table>\n",
       "</div>"
      ],
      "text/plain": [
       "    año trimestre         E       Ebc     pbird  impp_usa     Psoja_USA  \\\n",
       "1  1959      2ºTr  0.246097  0.220782  0.030592  0.001061  2.889447e-02   \n",
       "2  1959      3ºTr -0.017487  0.011635 -0.094753  0.002119 -6.369500e-02   \n",
       "3  1959      4ºTr -0.011363 -0.016617  0.069152  0.014706 -3.378382e-03   \n",
       "4  1960      1ºTr -0.002409  0.002615  0.044745  0.002083  1.344558e-02   \n",
       "5  1960      2ºTr  0.000804  0.001886  0.006553  0.001040 -2.220446e-16   \n",
       "\n",
       "   Pmaíz_USA  Ptrigo_USA  TOTfmi       ipc  \n",
       "1   0.097341    0.003831     NaN  0.242291  \n",
       "2  -0.029414   -0.011539     NaN  0.132732  \n",
       "3  -0.124785    0.032353     NaN  0.053472  \n",
       "4   0.024057    0.011173     NaN  0.060550  \n",
       "5   0.064250   -0.007435     NaN  0.003403  "
      ]
     },
     "metadata": {},
     "output_type": "display_data"
    }
   ],
   "source": [
    "df_ERPT_Arg = df_Arg.copy()\n",
    "df_ERPT_Arg = makeLogColumns(['ipc','E', 'Ebc', 'pbird', 'impp_usa', 'Psoja_USA', 'Pmaíz_USA', 'Ptrigo_USA', 'TOTfmi'],df_ERPT_Arg)\n",
    "df_ERPT_Arg = makeDiffColumns(['ipc','E', 'Ebc', 'pbird', 'impp_usa', 'Psoja_USA', 'Pmaíz_USA', 'Ptrigo_USA', 'TOTfmi'],df_ERPT_Arg)\n",
    "display(df_ERPT_Arg.head())"
   ]
  },
  {
   "cell_type": "markdown",
   "metadata": {},
   "source": [
    "# Regress"
   ]
  },
  {
   "cell_type": "code",
   "execution_count": 21,
   "metadata": {},
   "outputs": [],
   "source": [
    "import regression\n",
    "regression.REGRESS_MODEL = 'LocalProjections'"
   ]
  },
  {
   "cell_type": "code",
   "execution_count": 23,
   "metadata": {},
   "outputs": [
    {
     "name": "stdout",
     "output_type": "stream",
     "text": [
      "!!!! Modelo seleccionado: LocalProjections\n",
      "Realizando regresión con modelo LocalProjections\n",
      "Signif. 0.95\n"
     ]
    },
    {
     "ename": "ValueError",
     "evalue": "'E' is not in list",
     "output_type": "error",
     "traceback": [
      "\u001b[0;31m---------------------------------------------------------------------------\u001b[0m",
      "\u001b[0;31mValueError\u001b[0m                                Traceback (most recent call last)",
      "Cell \u001b[0;32mIn[23], line 1\u001b[0m\n\u001b[0;32m----> 1\u001b[0m \u001b[43mregress\u001b[49m\u001b[43m(\u001b[49m\u001b[43mendog\u001b[49m\u001b[38;5;241;43m=\u001b[39;49m\u001b[43m[\u001b[49m\u001b[38;5;124;43m\"\u001b[39;49m\u001b[38;5;124;43mipc\u001b[39;49m\u001b[38;5;124;43m\"\u001b[39;49m\u001b[43m]\u001b[49m\u001b[43m,\u001b[49m\u001b[43m \u001b[49m\u001b[43mdata\u001b[49m\u001b[38;5;241;43m=\u001b[39;49m\u001b[43mdf_ERPT_Arg\u001b[49m\u001b[43m,\u001b[49m\u001b[43m \u001b[49m\u001b[43mexog\u001b[49m\u001b[38;5;241;43m=\u001b[39;49m\u001b[43m[\u001b[49m\u001b[38;5;124;43m\"\u001b[39;49m\u001b[38;5;124;43mimpp_usa\u001b[39;49m\u001b[38;5;124;43m\"\u001b[39;49m\u001b[43m,\u001b[49m\u001b[38;5;124;43m\"\u001b[39;49m\u001b[38;5;124;43mE\u001b[39;49m\u001b[38;5;124;43m\"\u001b[39;49m\u001b[43m,\u001b[49m\u001b[38;5;124;43m\"\u001b[39;49m\u001b[38;5;124;43mpbird\u001b[39;49m\u001b[38;5;124;43m\"\u001b[39;49m\u001b[43m]\u001b[49m\u001b[43m,\u001b[49m\u001b[43m \u001b[49m\u001b[43mmaxlags\u001b[49m\u001b[38;5;241;43m=\u001b[39;49m\u001b[38;5;241;43m2\u001b[39;49m\u001b[43m,\u001b[49m\u001b[43m \u001b[49m\u001b[43mrun_other_tests_on\u001b[49m\u001b[38;5;241;43m=\u001b[39;49m\u001b[38;5;28;43;01mFalse\u001b[39;49;00m\u001b[43m,\u001b[49m\u001b[43m \u001b[49m\u001b[43mlp_threshold\u001b[49m\u001b[38;5;241;43m=\u001b[39;49m\u001b[38;5;241;43m121\u001b[39;49m\u001b[43m)\u001b[49m\n",
      "File \u001b[0;32m~/Documents/personal/tesis_mariana/code/scripts/regression.py:223\u001b[0m, in \u001b[0;36mregress\u001b[0;34m(endog, data, exog, maxlags, rModel, estacionalidad, max_horizon, signifs, run_other_tests_on, lp_threshold)\u001b[0m\n\u001b[1;32m    221\u001b[0m         \u001b[38;5;28;01mwith\u001b[39;00m warnings\u001b[38;5;241m.\u001b[39mcatch_warnings():\n\u001b[1;32m    222\u001b[0m             warnings\u001b[38;5;241m.\u001b[39msimplefilter(\u001b[38;5;124m\"\u001b[39m\u001b[38;5;124mignore\u001b[39m\u001b[38;5;124m\"\u001b[39m, category\u001b[38;5;241m=\u001b[39m\u001b[38;5;167;01mFutureWarning\u001b[39;00m)\n\u001b[0;32m--> 223\u001b[0m             irf_on, irf_off \u001b[38;5;241m=\u001b[39m \u001b[43mlp\u001b[49m\u001b[38;5;241;43m.\u001b[39;49m\u001b[43mThresholdTimeSeriesLPX\u001b[49m\u001b[43m(\u001b[49m\u001b[43mdata\u001b[49m\u001b[38;5;241;43m=\u001b[39;49m\u001b[43mdatos\u001b[49m\u001b[43m,\u001b[49m\u001b[43m \u001b[49m\n\u001b[1;32m    224\u001b[0m \u001b[43m                            \u001b[49m\u001b[43mY\u001b[49m\u001b[38;5;241;43m=\u001b[39;49m\u001b[43mendog\u001b[49m\u001b[43m,\u001b[49m\u001b[43m \u001b[49m\n\u001b[1;32m    225\u001b[0m \u001b[43m                            \u001b[49m\u001b[43mX\u001b[49m\u001b[38;5;241;43m=\u001b[39;49m\u001b[43mexog\u001b[49m\u001b[43m,\u001b[49m\u001b[43m \u001b[49m\n\u001b[1;32m    226\u001b[0m \u001b[43m                            \u001b[49m\u001b[43mthreshold_var\u001b[49m\u001b[38;5;241;43m=\u001b[39;49m\u001b[38;5;124;43m\"\u001b[39;49m\u001b[38;5;124;43mlp_threshold\u001b[39;49m\u001b[38;5;124;43m\"\u001b[39;49m\u001b[43m,\u001b[49m\n\u001b[1;32m    227\u001b[0m \u001b[43m                            \u001b[49m\u001b[43mresponse\u001b[49m\u001b[38;5;241;43m=\u001b[39;49m\u001b[43mresponse\u001b[49m\u001b[43m,\u001b[49m\u001b[43m \u001b[49m\n\u001b[1;32m    228\u001b[0m \u001b[43m                            \u001b[49m\u001b[43mhorizon\u001b[49m\u001b[38;5;241;43m=\u001b[39;49m\u001b[43mirf_horizon\u001b[49m\u001b[43m,\u001b[49m\u001b[43m \u001b[49m\n\u001b[1;32m    229\u001b[0m \u001b[43m                            \u001b[49m\u001b[43mlags\u001b[49m\u001b[38;5;241;43m=\u001b[39;49m\u001b[43mopt_lags\u001b[49m\u001b[43m,\u001b[49m\u001b[43m \u001b[49m\n\u001b[1;32m    230\u001b[0m \u001b[43m                            \u001b[49m\u001b[43mnewey_lags\u001b[49m\u001b[38;5;241;43m=\u001b[39;49m\u001b[38;5;28;43;01mNone\u001b[39;49;00m\u001b[43m,\u001b[49m\u001b[43m \u001b[49m\n\u001b[1;32m    231\u001b[0m \u001b[43m                            \u001b[49m\u001b[43mci_width\u001b[49m\u001b[38;5;241;43m=\u001b[39;49m\u001b[43mopt_ci\u001b[49m\n\u001b[1;32m    232\u001b[0m \u001b[43m                            \u001b[49m\u001b[43m)\u001b[49m\n\u001b[1;32m    233\u001b[0m     lp_results\u001b[38;5;241m.\u001b[39mappend([irf_on, irf_off])\n\u001b[1;32m    235\u001b[0m \u001b[38;5;28;01mif\u001b[39;00m lp_threshold \u001b[38;5;129;01mis\u001b[39;00m \u001b[38;5;28;01mNone\u001b[39;00m:\n",
      "File \u001b[0;32m~/.pyenv/versions/3.12.5/envs/tesis_mariana/lib/python3.12/site-packages/localprojections/lp.py:537\u001b[0m, in \u001b[0;36mThresholdTimeSeriesLPX\u001b[0;34m(data, Y, X, threshold_var, response, horizon, lags, newey_lags, ci_width)\u001b[0m\n\u001b[1;32m    532\u001b[0m z_val \u001b[38;5;241m=\u001b[39m NormalDist()\u001b[38;5;241m.\u001b[39minv_cdf(\n\u001b[1;32m    533\u001b[0m     (\u001b[38;5;241m1\u001b[39m \u001b[38;5;241m+\u001b[39m ci_width) \u001b[38;5;241m/\u001b[39m \u001b[38;5;241m2\u001b[39m\n\u001b[1;32m    534\u001b[0m )  \u001b[38;5;66;03m# Determines what multiplier to use when calculating UB & LB from SE\u001b[39;00m\n\u001b[1;32m    535\u001b[0m \u001b[38;5;28;01mfor\u001b[39;00m r \u001b[38;5;129;01min\u001b[39;00m response:\n\u001b[1;32m    536\u001b[0m     \u001b[38;5;66;03m## Check ordering of response variable in the full list of Y\u001b[39;00m\n\u001b[0;32m--> 537\u001b[0m     r_loc \u001b[38;5;241m=\u001b[39m \u001b[43mY\u001b[49m\u001b[38;5;241;43m.\u001b[39;49m\u001b[43mindex\u001b[49m\u001b[43m(\u001b[49m\u001b[43mr\u001b[49m\u001b[43m)\u001b[49m\n\u001b[1;32m    538\u001b[0m     \u001b[38;5;66;03m## Generate copy of data for horizon h + first difference RHS variables + transform response variable to desired horizon\u001b[39;00m\n\u001b[1;32m    539\u001b[0m     \u001b[38;5;28;01mfor\u001b[39;00m h \u001b[38;5;129;01min\u001b[39;00m \u001b[38;5;28mrange\u001b[39m(horizon \u001b[38;5;241m+\u001b[39m \u001b[38;5;241m1\u001b[39m):\n",
      "\u001b[0;31mValueError\u001b[0m: 'E' is not in list"
     ]
    }
   ],
   "source": [
    "regress(endog=[\"ipc\"], data=df_ERPT_Arg, exog=[\"impp_usa\",\"E\",\"pbird\"], maxlags=2, run_other_tests_on=False, lp_threshold=121)"
   ]
  }
 ],
 "metadata": {
  "kernelspec": {
   "display_name": "tesis_mariana",
   "language": "python",
   "name": "python3"
  },
  "language_info": {
   "codemirror_mode": {
    "name": "ipython",
    "version": 3
   },
   "file_extension": ".py",
   "mimetype": "text/x-python",
   "name": "python",
   "nbconvert_exporter": "python",
   "pygments_lexer": "ipython3",
   "version": "3.12.5"
  }
 },
 "nbformat": 4,
 "nbformat_minor": 2
}
