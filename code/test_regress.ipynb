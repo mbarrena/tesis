{
 "cells": [
  {
   "cell_type": "markdown",
   "metadata": {},
   "source": [
    "#### For colab"
   ]
  },
  {
   "cell_type": "markdown",
   "metadata": {},
   "source": [
    "from google.colab import drive\n",
    "drive.mount('/content/drive', force_remount=True)\n",
    "import sys \n",
    "sh_path = './drive/MyDrive/Colab Notebooks/scripts'\n",
    "sys.path.insert(0, sh_path)"
   ]
  },
  {
   "cell_type": "markdown",
   "metadata": {},
   "source": [
    "#### For local development"
   ]
  },
  {
   "cell_type": "code",
   "execution_count": 1,
   "metadata": {},
   "outputs": [],
   "source": [
    "import sys \n",
    "sh_path = '/home/mako/Documents/personal/tesis_mariana/code/scripts'\n",
    "sys.path.insert(0, sh_path)"
   ]
  },
  {
   "cell_type": "markdown",
   "metadata": {},
   "source": [
    "# Install dependencies and import thesis code"
   ]
  },
  {
   "cell_type": "markdown",
   "metadata": {},
   "source": [
    "# Si esta próxima linea falla, ir a\n",
    "#    Entorno de ejecucion > Reiniciar entorno de ejecucion\n",
    "# y volver a correr estas primeras dos celdas\n",
    "!sh '{sh_path}'/install_libraries.sh"
   ]
  },
  {
   "cell_type": "code",
   "execution_count": 2,
   "metadata": {},
   "outputs": [],
   "source": [
    "from tests import *\n",
    "from regression import *\n",
    "%matplotlib inline\n",
    "# Para elegir que modelo usar para regresión, descomentar la línea con el modelo\n",
    "# que se quiera usar y comentar las otras dos. Despues correr la celda\n",
    "REGRESS_MODEL = \"LocalProjections\" #o \"VECM\" o \"OLS\" o \"LocalProjections\""
   ]
  },
  {
   "cell_type": "markdown",
   "metadata": {},
   "source": [
    "# Load dfs"
   ]
  },
  {
   "cell_type": "code",
   "execution_count": 3,
   "metadata": {},
   "outputs": [],
   "source": [
    "import pandas as pd\n",
    "df_trimestral_crudo = pd.read_excel(\"https://github.com/mbarrena/tesis/blob/main/data/Data%20trimestral%201950%20a%202023%20con%20DUMMIES%20outliers%20(por%20trimestre).xlsx?raw=true\")\n"
   ]
  },
  {
   "cell_type": "code",
   "execution_count": 4,
   "metadata": {},
   "outputs": [],
   "source": [
    "df_Arg = df_trimestral_crudo.iloc[36:].reset_index(drop=True)[['año', 'trimestre', 'ipc_ajust', 'E', 'Ebc', 'pbird', 'impp_usa', 'Psoja_USA', 'Pmaíz_USA', 'Ptrigo_USA', 'TOTfmi']].copy()\n",
    "df_Arg = df_trimestral_crudo.iloc[36:].reset_index(drop=True)[['año', 'trimestre', 'ipc_ajust', 'E', 'Ebc', 'pbird', 'impp_usa', 'Psoja_USA', 'Pmaíz_USA', 'Ptrigo_USA', 'TOTfmi']].copy()\n",
    "df_Arg = renameColumnOfDataframe(df_Arg, \"ipc_ajust\", \"ipc\")"
   ]
  },
  {
   "cell_type": "code",
   "execution_count": 5,
   "metadata": {},
   "outputs": [
    {
     "data": {
      "text/html": [
       "<div>\n",
       "<style scoped>\n",
       "    .dataframe tbody tr th:only-of-type {\n",
       "        vertical-align: middle;\n",
       "    }\n",
       "\n",
       "    .dataframe tbody tr th {\n",
       "        vertical-align: top;\n",
       "    }\n",
       "\n",
       "    .dataframe thead th {\n",
       "        text-align: right;\n",
       "    }\n",
       "</style>\n",
       "<table border=\"1\" class=\"dataframe\">\n",
       "  <thead>\n",
       "    <tr style=\"text-align: right;\">\n",
       "      <th></th>\n",
       "      <th>año</th>\n",
       "      <th>trimestre</th>\n",
       "      <th>E</th>\n",
       "      <th>Ebc</th>\n",
       "      <th>pbird</th>\n",
       "      <th>impp_usa</th>\n",
       "      <th>Psoja_USA</th>\n",
       "      <th>Pmaíz_USA</th>\n",
       "      <th>Ptrigo_USA</th>\n",
       "      <th>TOTfmi</th>\n",
       "      <th>ipc</th>\n",
       "    </tr>\n",
       "  </thead>\n",
       "  <tbody>\n",
       "    <tr>\n",
       "      <th>1</th>\n",
       "      <td>1959</td>\n",
       "      <td>2ºTr</td>\n",
       "      <td>0.246097</td>\n",
       "      <td>0.220782</td>\n",
       "      <td>0.030592</td>\n",
       "      <td>0.001061</td>\n",
       "      <td>2.889447e-02</td>\n",
       "      <td>0.097341</td>\n",
       "      <td>0.003831</td>\n",
       "      <td>NaN</td>\n",
       "      <td>0.242291</td>\n",
       "    </tr>\n",
       "    <tr>\n",
       "      <th>2</th>\n",
       "      <td>1959</td>\n",
       "      <td>3ºTr</td>\n",
       "      <td>-0.017487</td>\n",
       "      <td>0.011635</td>\n",
       "      <td>-0.094753</td>\n",
       "      <td>0.002119</td>\n",
       "      <td>-6.369500e-02</td>\n",
       "      <td>-0.029414</td>\n",
       "      <td>-0.011539</td>\n",
       "      <td>NaN</td>\n",
       "      <td>0.132732</td>\n",
       "    </tr>\n",
       "    <tr>\n",
       "      <th>3</th>\n",
       "      <td>1959</td>\n",
       "      <td>4ºTr</td>\n",
       "      <td>-0.011363</td>\n",
       "      <td>-0.016617</td>\n",
       "      <td>0.069152</td>\n",
       "      <td>0.014706</td>\n",
       "      <td>-3.378382e-03</td>\n",
       "      <td>-0.124785</td>\n",
       "      <td>0.032353</td>\n",
       "      <td>NaN</td>\n",
       "      <td>0.053472</td>\n",
       "    </tr>\n",
       "    <tr>\n",
       "      <th>4</th>\n",
       "      <td>1960</td>\n",
       "      <td>1ºTr</td>\n",
       "      <td>-0.002409</td>\n",
       "      <td>0.002615</td>\n",
       "      <td>0.044745</td>\n",
       "      <td>0.002083</td>\n",
       "      <td>1.344558e-02</td>\n",
       "      <td>0.024057</td>\n",
       "      <td>0.011173</td>\n",
       "      <td>NaN</td>\n",
       "      <td>0.060550</td>\n",
       "    </tr>\n",
       "    <tr>\n",
       "      <th>5</th>\n",
       "      <td>1960</td>\n",
       "      <td>2ºTr</td>\n",
       "      <td>0.000804</td>\n",
       "      <td>0.001886</td>\n",
       "      <td>0.006553</td>\n",
       "      <td>0.001040</td>\n",
       "      <td>-2.220446e-16</td>\n",
       "      <td>0.064250</td>\n",
       "      <td>-0.007435</td>\n",
       "      <td>NaN</td>\n",
       "      <td>0.003403</td>\n",
       "    </tr>\n",
       "  </tbody>\n",
       "</table>\n",
       "</div>"
      ],
      "text/plain": [
       "    año trimestre         E       Ebc     pbird  impp_usa     Psoja_USA  \\\n",
       "1  1959      2ºTr  0.246097  0.220782  0.030592  0.001061  2.889447e-02   \n",
       "2  1959      3ºTr -0.017487  0.011635 -0.094753  0.002119 -6.369500e-02   \n",
       "3  1959      4ºTr -0.011363 -0.016617  0.069152  0.014706 -3.378382e-03   \n",
       "4  1960      1ºTr -0.002409  0.002615  0.044745  0.002083  1.344558e-02   \n",
       "5  1960      2ºTr  0.000804  0.001886  0.006553  0.001040 -2.220446e-16   \n",
       "\n",
       "   Pmaíz_USA  Ptrigo_USA  TOTfmi       ipc  \n",
       "1   0.097341    0.003831     NaN  0.242291  \n",
       "2  -0.029414   -0.011539     NaN  0.132732  \n",
       "3  -0.124785    0.032353     NaN  0.053472  \n",
       "4   0.024057    0.011173     NaN  0.060550  \n",
       "5   0.064250   -0.007435     NaN  0.003403  "
      ]
     },
     "metadata": {},
     "output_type": "display_data"
    }
   ],
   "source": [
    "df_ERPT_Arg = df_Arg.copy()\n",
    "df_ERPT_Arg = makeLogColumns(['ipc','E', 'Ebc', 'pbird', 'impp_usa', 'Psoja_USA', 'Pmaíz_USA', 'Ptrigo_USA', 'TOTfmi'],df_ERPT_Arg)\n",
    "df_ERPT_Arg = makeDiffColumns(['ipc','E', 'Ebc', 'pbird', 'impp_usa', 'Psoja_USA', 'Pmaíz_USA', 'Ptrigo_USA', 'TOTfmi'],df_ERPT_Arg)\n",
    "display(df_ERPT_Arg.head())"
   ]
  },
  {
   "cell_type": "markdown",
   "metadata": {},
   "source": [
    "# Regress"
   ]
  },
  {
   "cell_type": "code",
   "execution_count": 6,
   "metadata": {},
   "outputs": [],
   "source": [
    "import regression\n",
    "#regression.REGRESS_MODEL = 'LocalProjections'\n",
    "regression.REGRESS_MODEL = 'VAR'"
   ]
  },
  {
   "cell_type": "code",
   "execution_count": null,
   "metadata": {},
   "outputs": [
    {
     "ename": "SyntaxError",
     "evalue": "invalid syntax (3485112004.py, line 2)",
     "output_type": "error",
     "traceback": [
      "\u001b[0;36m  Cell \u001b[0;32mIn[9], line 2\u001b[0;36m\u001b[0m\n\u001b[0;31m    elif regression.REGRESS_MODEL == \"LocalProjections\":\u001b[0m\n\u001b[0m    ^\u001b[0m\n\u001b[0;31mSyntaxError\u001b[0m\u001b[0;31m:\u001b[0m invalid syntax\n"
     ]
    }
   ],
   "source": [
    "if regression.REGRESS_MODEL == \"VAR\":\n",
    "    regress([\"impp_usa\", \"E\", \"ipc\", \"pbird\"], df_ERPT_Arg, maxlags=2) \n",
    "elif regression.REGRESS_MODEL == \"LocalProjections\":\n",
    "    regress(endog=[\"E\",\"ipc\",\"pbird\"], data=df_ERPT_Arg, exog=[\"Pmaíz_USA\"], maxlags=3, newey_lags=4, max_horizon=10, run_other_tests_on=False)"
   ]
  }
 ],
 "metadata": {
  "kernelspec": {
   "display_name": "tesis_mariana",
   "language": "python",
   "name": "python3"
  },
  "language_info": {
   "codemirror_mode": {
    "name": "ipython",
    "version": 3
   },
   "file_extension": ".py",
   "mimetype": "text/x-python",
   "name": "python",
   "nbconvert_exporter": "python",
   "pygments_lexer": "ipython3",
   "version": "3.12.5"
  }
 },
 "nbformat": 4,
 "nbformat_minor": 2
}
